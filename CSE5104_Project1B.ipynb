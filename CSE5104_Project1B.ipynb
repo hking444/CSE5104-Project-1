{
 "cells": [
  {
   "cell_type": "code",
   "execution_count": 1,
   "id": "7285724e-275b-4ca1-b8c9-fbf1cf9872ae",
   "metadata": {},
   "outputs": [],
   "source": [
    "### IMPORTS\n",
    "\n",
    "import numpy as np\n",
    "import pandas as pd\n",
    "import statsmodels.api as sm\n",
    "from sklearn.metrics import mean_squared_error"
   ]
  },
  {
   "cell_type": "code",
   "execution_count": 2,
   "id": "bed61b31-e4d6-4bd0-9070-1820c331fbb5",
   "metadata": {},
   "outputs": [],
   "source": [
    "### FUNCTIONS\n",
    "\n",
    "### Min-Max Normalization\n",
    "## INPUTS\n",
    "# X: array to be normalized\n",
    "## OUTPUTS\n",
    "# X_norm: normalized array\n",
    "def normalize(X):\n",
    "    X_norm = (X-np.min(X, axis=0))/(np.max(X, axis=0) - np.min(X, axis=0))\n",
    "    return X_norm\n",
    "\n",
    "### Log Transform\n",
    "## INPUTS\n",
    "# X: array to be transformed\n",
    "### OUTPUTS\n",
    "# X_log: log-transformed array\n",
    "def logtransform(X):\n",
    "    X_log = np.log(1+X)\n",
    "    return X_log\n",
    "\n",
    "### Training + Analysis of Models\n",
    "## INPUTS\n",
    "# X_train: training data set\n",
    "# X_test: testing data set\n",
    "# full_results: boolean, displays all results if True\n",
    "## OUTPUTS\n",
    "# p_values: t-test p-values of model\n",
    "def trainanalyze(X_train, X_test, full_results=False):\n",
    "    # add intercept term (statsmodels doesn't add it automatically)\n",
    "    X_train_sm = sm.add_constant(X_train)\n",
    "    X_test_sm = sm.add_constant(X_test)\n",
    "    \n",
    "    # fit model\n",
    "    model = sm.OLS(y_train, X_train_sm).fit()\n",
    "    \n",
    "    # make predictions\n",
    "    y_pred_train = model.predict(X_train_sm)\n",
    "    y_pred_test = model.predict(X_test_sm)\n",
    "    \n",
    "    # evaluate performance metrics\n",
    "    var_train = np.var(y_train)\n",
    "    var_test = np.var(y_test)\n",
    "    \n",
    "    train_MSE = mean_squared_error(y_train, y_pred_train)\n",
    "    test_MSE = mean_squared_error(y_test, y_pred_test)\n",
    "    train_VE = 1 - (train_MSE / var_train)\n",
    "    test_VE  = 1 - (test_MSE / var_test)\n",
    "    \n",
    "    # t-statistics analysis\n",
    "    p_values = model.pvalues\n",
    "    \n",
    "    # display performance metrics, p-values, and results summary\n",
    "    if full_results:\n",
    "        print(\"Test VE:\", test_VE)\n",
    "        print(\"Train VE:\", train_VE)\n",
    "        print(\"Test MSE:\", test_MSE)\n",
    "        print(\"Train MSE:\", train_MSE)\n",
    "        print('P-Values:', p_values)\n",
    "        print(model.summary())\n",
    "    return p_values"
   ]
  },
  {
   "cell_type": "code",
   "execution_count": 3,
   "id": "faa0d9b4-b382-43b1-b0ff-6bc9fc2c5370",
   "metadata": {},
   "outputs": [],
   "source": [
    "### PREPROCESSING I\n",
    "\n",
    "# read data set\n",
    "data = pd.read_csv(r\"C:\\Users\\kingh\\Downloads\\Concrete_Data.csv\")\n",
    "predictors = data.columns.to_numpy()\n",
    "\n",
    "# extract feature variables\n",
    "X = data.iloc[:,:8].to_numpy()\n",
    "X_test = X[501:631, :]\n",
    "X_train = np.vstack((X[0:501, :], X[631:, :]))\n",
    "\n",
    "\n",
    "# extract target variable\n",
    "y = data.iloc[:, -1].to_numpy().reshape((-1,1))\n",
    "y_test = y[501:631]\n",
    "y_train = np.vstack((y[0:501], y[631:]))"
   ]
  },
  {
   "cell_type": "code",
   "execution_count": 4,
   "id": "eae2ddc6-c0dc-4e55-83ca-522dfa632aa3",
   "metadata": {},
   "outputs": [],
   "source": [
    "### PREPROCESSING II\n",
    "\n",
    "# create normalized X\n",
    "X_train_norm = normalize(X_train)\n",
    "X_test_norm = normalize(X_test)\n",
    "\n",
    "# create log-transformed X\n",
    "X_train_log = logtransform(X_train)\n",
    "X_test_log = logtransform(X_test)"
   ]
  },
  {
   "cell_type": "code",
   "execution_count": 5,
   "id": "e5989bc9-4215-4e0a-ad81-43f61b1ec012",
   "metadata": {},
   "outputs": [],
   "source": [
    "### TRAINING + ANALYSIS FOR TRANSFORMED+RAW DATA\n",
    "X_trains = [X_train, X_train_norm, X_train_log]\n",
    "X_tests = [X_test, X_test_norm, X_test_log]\n",
    "P_Values = []\n",
    "\n",
    "for i in range(3):\n",
    "    p_values = trainanalyze(X_trains[i], X_tests[i])\n",
    "    P_Values.append(p_values)\n",
    "\n",
    "# omit p-values for b (intercept) term\n",
    "P_Values = np.array(P_Values)[:, 1:].transpose()"
   ]
  },
  {
   "cell_type": "code",
   "execution_count": 6,
   "id": "c2373cb2-a110-459e-8839-e844c4443110",
   "metadata": {},
   "outputs": [],
   "source": [
    "### EXPORT RESULTS TO CSV\n",
    "P_Values_df = pd.DataFrame(P_Values, columns=['Raw', 'Normalized', 'Log-Transformed'])\n",
    "P_Values_df.to_csv(\"pvalues.csv\")"
   ]
  }
 ],
 "metadata": {
  "kernelspec": {
   "display_name": "Python 3 (ipykernel)",
   "language": "python",
   "name": "python3"
  },
  "language_info": {
   "codemirror_mode": {
    "name": "ipython",
    "version": 3
   },
   "file_extension": ".py",
   "mimetype": "text/x-python",
   "name": "python",
   "nbconvert_exporter": "python",
   "pygments_lexer": "ipython3",
   "version": "3.10.18"
  }
 },
 "nbformat": 4,
 "nbformat_minor": 5
}
