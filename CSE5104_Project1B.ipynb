{
 "cells": [
  {
   "cell_type": "code",
   "execution_count": 7,
   "id": "7285724e-275b-4ca1-b8c9-fbf1cf9872ae",
   "metadata": {},
   "outputs": [],
   "source": [
    "### IMPORTS\n",
    "\n",
    "import numpy as np\n",
    "import pandas as pd\n",
    "import statsmodels.api as sm\n",
    "from sklearn.metrics import mean_squared_error"
   ]
  },
  {
   "cell_type": "code",
   "execution_count": 8,
   "id": "bed61b31-e4d6-4bd0-9070-1820c331fbb5",
   "metadata": {},
   "outputs": [],
   "source": [
    "### FUNCTIONS\n",
    "\n",
    "## Min-Max Normalization\n",
    "# X: array to be normalized\n",
    "def normalize(X):\n",
    "    X_norm = (X-np.min(X, axis=0))/(np.max(X, axis=0) - np.min(X, axis=0))\n",
    "    return X_norm"
   ]
  },
  {
   "cell_type": "code",
   "execution_count": 9,
   "id": "faa0d9b4-b382-43b1-b0ff-6bc9fc2c5370",
   "metadata": {},
   "outputs": [],
   "source": [
    "### PREPROCESSING I\n",
    "\n",
    "# read data set\n",
    "data = pd.read_csv(r\"C:\\Users\\kingh\\Downloads\\Concrete_Data.csv\")\n",
    "\n",
    "# extract feature variables\n",
    "X = data.iloc[:,:8].to_numpy()\n",
    "X_test = X[501:631, :]\n",
    "X_train = np.vstack((X[0:501, :], X[631:, :]))\n",
    "\n",
    "# extract target variable\n",
    "y = data.iloc[:, -1].to_numpy().reshape((-1,1))\n",
    "y_test = y[501:631]\n",
    "y_train = np.vstack((y[0:501], y[631:]))"
   ]
  },
  {
   "cell_type": "code",
   "execution_count": 10,
   "id": "eae2ddc6-c0dc-4e55-83ca-522dfa632aa3",
   "metadata": {},
   "outputs": [],
   "source": [
    "### PREPROCESSING II\n",
    "\n",
    "# create normalized X\n",
    "X_train_norm = normalize(X_train)\n",
    "X_test_norm = normalize(X_test)"
   ]
  },
  {
   "cell_type": "code",
   "execution_count": 11,
   "id": "e5989bc9-4215-4e0a-ad81-43f61b1ec012",
   "metadata": {},
   "outputs": [
    {
     "name": "stdout",
     "output_type": "stream",
     "text": [
      "                            OLS Regression Results                            \n",
      "==============================================================================\n",
      "Dep. Variable:                      y   R-squared:                       0.624\n",
      "Model:                            OLS   Adj. R-squared:                  0.621\n",
      "Method:                 Least Squares   F-statistic:                     184.9\n",
      "Date:                Thu, 02 Oct 2025   Prob (F-statistic):          1.80e-183\n",
      "Time:                        18:50:20   Log-Likelihood:                -3367.7\n",
      "No. Observations:                 900   AIC:                             6753.\n",
      "Df Residuals:                     891   BIC:                             6797.\n",
      "Df Model:                           8                                         \n",
      "Covariance Type:            nonrobust                                         \n",
      "==============================================================================\n",
      "                 coef    std err          t      P>|t|      [0.025      0.975]\n",
      "------------------------------------------------------------------------------\n",
      "const        -52.0353     28.768     -1.809      0.071    -108.496       4.425\n",
      "x1             0.1328      0.009     14.096      0.000       0.114       0.151\n",
      "x2             0.1250      0.011     10.912      0.000       0.103       0.148\n",
      "x3             0.1067      0.014      7.471      0.000       0.079       0.135\n",
      "x4            -0.1331      0.043     -3.112      0.002      -0.217      -0.049\n",
      "x5             0.1162      0.100      1.161      0.246      -0.080       0.313\n",
      "x6             0.0286      0.010      2.786      0.005       0.008       0.049\n",
      "x7             0.0341      0.011      3.004      0.003       0.012       0.056\n",
      "x8             0.1188      0.006     19.992      0.000       0.107       0.130\n",
      "==============================================================================\n",
      "Omnibus:                       11.481   Durbin-Watson:                   1.244\n",
      "Prob(Omnibus):                  0.003   Jarque-Bera (JB):               11.682\n",
      "Skew:                          -0.250   Prob(JB):                      0.00291\n",
      "Kurtosis:                       3.248   Cond. No.                     1.09e+05\n",
      "==============================================================================\n",
      "\n",
      "Notes:\n",
      "[1] Standard Errors assume that the covariance matrix of the errors is correctly specified.\n",
      "[2] The condition number is large, 1.09e+05. This might indicate that there are\n",
      "strong multicollinearity or other numerical problems.\n"
     ]
    }
   ],
   "source": [
    "# add intercept term (statsmodels doesn't add it automatically)\n",
    "X_train_sm = sm.add_constant(X_train)\n",
    "\n",
    "# fit model\n",
    "model = sm.OLS(y_train, X_train_sm).fit()\n",
    "\n",
    "# summary of results\n",
    "print(model.summary())"
   ]
  },
  {
   "cell_type": "code",
   "execution_count": 12,
   "id": "d3412a85-b3fb-4633-824b-6b79104a50a2",
   "metadata": {},
   "outputs": [
    {
     "name": "stdout",
     "output_type": "stream",
     "text": [
      "Test VE: 0.35125143823506577\n",
      "Train VE: 0.6241001089604974\n",
      "Test MSE: 141.25799330049725\n",
      "Train MSE: 104.1544639349233\n"
     ]
    }
   ],
   "source": [
    "# add intercept term to test data\n",
    "X_test_sm = sm.add_constant(X_test)\n",
    "\n",
    "# predict\n",
    "y_pred_train = model.predict(X_train_sm)\n",
    "y_pred_test = model.predict(X_test_sm)\n",
    "\n",
    "var_train = np.var(y_train)\n",
    "var_test = np.var(y_test)\n",
    "\n",
    "train_MSE = mean_squared_error(y_train, y_pred_train)\n",
    "test_MSE = mean_squared_error(y_test, y_pred_test)\n",
    "train_VE = 1 - (train_MSE / var_train)\n",
    "test_VE  = 1 - (test_MSE / var_test)\n",
    "\n",
    "print(\"Test VE:\", test_VE)\n",
    "print(\"Train VE:\", train_VE)\n",
    "print(\"Test MSE:\", test_MSE)\n",
    "print(\"Train MSE:\", train_MSE)"
   ]
  },
  {
   "cell_type": "code",
   "execution_count": 14,
   "id": "e2f6589f-30c0-41ac-9756-8392d24f6e66",
   "metadata": {},
   "outputs": [
    {
     "name": "stdout",
     "output_type": "stream",
     "text": [
      "[7.08196536e-02 6.97096932e-41 4.14518989e-26 1.89457127e-13\n",
      " 1.91841837e-03 2.46111666e-01 5.44324111e-03 2.73812239e-03\n",
      " 9.51621857e-74]\n"
     ]
    }
   ],
   "source": [
    "p_vals = model.pvalues\n",
    "print(p_vals)"
   ]
  },
  {
   "cell_type": "code",
   "execution_count": 16,
   "id": "05541fbe-fb78-4274-a0d3-92ead02aeb56",
   "metadata": {},
   "outputs": [
    {
     "name": "stdout",
     "output_type": "stream",
     "text": [
      "[2.06573362e-01 6.97096932e-41 4.14518989e-26 1.89457127e-13\n",
      " 1.91841837e-03 2.46111666e-01 5.44324111e-03 2.73812239e-03\n",
      " 9.51621857e-74]\n"
     ]
    }
   ],
   "source": [
    "# add intercept term (statsmodels doesn't add it automatically)\n",
    "X_train_sm = sm.add_constant(X_train_norm)\n",
    "\n",
    "# fit model\n",
    "model = sm.OLS(y_train, X_train_sm).fit()\n",
    "\n",
    "# summary of results\n",
    "p_vals = model.pvalues\n",
    "print(p_vals)"
   ]
  },
  {
   "cell_type": "code",
   "execution_count": 19,
   "id": "2e793ce2-e794-4e34-9eda-c76488fba847",
   "metadata": {},
   "outputs": [
    {
     "name": "stdout",
     "output_type": "stream",
     "text": [
      "[2.93770453e-001 1.29860458e-086 4.51879000e-036 2.60534687e-001\n",
      " 1.86258617e-020 1.03969702e-005 4.07894287e-001 9.47686639e-002\n",
      " 1.74699065e-192]\n"
     ]
    }
   ],
   "source": [
    "X_train_log = np.log(X_train + 1)\n",
    "\n",
    "# add intercept term (statsmodels doesn't add it automatically)\n",
    "X_train_sm = sm.add_constant(X_train_log)\n",
    "\n",
    "# fit model\n",
    "model = sm.OLS(y_train, X_train_sm).fit()\n",
    "\n",
    "# summary of results\n",
    "p_vals = model.pvalues\n",
    "print(p_vals)"
   ]
  },
  {
   "cell_type": "code",
   "execution_count": null,
   "id": "c2373cb2-a110-459e-8839-e844c4443110",
   "metadata": {},
   "outputs": [],
   "source": []
  }
 ],
 "metadata": {
  "kernelspec": {
   "display_name": "Python 3 (ipykernel)",
   "language": "python",
   "name": "python3"
  },
  "language_info": {
   "codemirror_mode": {
    "name": "ipython",
    "version": 3
   },
   "file_extension": ".py",
   "mimetype": "text/x-python",
   "name": "python",
   "nbconvert_exporter": "python",
   "pygments_lexer": "ipython3",
   "version": "3.10.18"
  }
 },
 "nbformat": 4,
 "nbformat_minor": 5
}
